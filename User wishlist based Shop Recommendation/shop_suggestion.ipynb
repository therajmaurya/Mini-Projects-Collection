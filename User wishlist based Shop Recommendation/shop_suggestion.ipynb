{
 "cells": [
  {
   "cell_type": "markdown",
   "metadata": {},
   "source": [
    "### Problem Statement\n",
    "\n",
    "Write a program that accepts a price file of baby products(format below) as CSV file, and a list of products that someone wants to buy, and outputs the shop they should go to, and the total price it will cost them. It is okay to purchase extra products, as long as the total cost is minimized.\n",
    "\n",
    "price file format:\n",
    "shop ID, price, product 1 label (single product)\n",
    "shop ID, price, product 1 label, product 2 label, ... (combo packs with multiple products)\n",
    "\n",
    "Shop IDs are integers, all products are lower case letters and underscores, and the price is a decimal number."
   ]
  },
  {
   "cell_type": "code",
   "execution_count": 1,
   "metadata": {
    "collapsed": true
   },
   "outputs": [],
   "source": [
    "import csv\n",
    "import sys"
   ]
  },
  {
   "cell_type": "code",
   "execution_count": 2,
   "metadata": {
    "collapsed": false
   },
   "outputs": [],
   "source": [
    "class readDataFrom():\n",
    "    \"\"\"Reading data from CSV file and converting them to a list of dictionary values\"\"\"\n",
    "    globals()\n",
    "    def getProductInfo(self,filename):\n",
    "        with open(filename, \"r\") as file_input:\n",
    "            data = csv.reader(file_input)\n",
    "            for row in data:\n",
    "                temp_dict = {}\n",
    "                temp_list = []\n",
    "                temp_dict[\"shopID\"]=row[0]\n",
    "                temp_dict[\"cost\"]=row[1]\n",
    "                for i in row[2:]: #stripping white spaces from product names\n",
    "                    temp_list.append(i.strip())\n",
    "                temp_dict[\"items\"]= temp_list\n",
    "                product_info.append(temp_dict)\n",
    "        return product_info\n",
    "\n",
    "    def getShopInfo(self,filename):\n",
    "        for i in product_info:    \n",
    "            temp_list = []\n",
    "            temp_dict = {}\n",
    "            for val in product_info:\n",
    "                if i['shopID'] == val['shopID']:\n",
    "                    temp_list.extend(val['items'])\n",
    "            temp_dict[\"shopID\"] = i['shopID']\n",
    "            temp_dict[\"products\"] = temp_list\n",
    "            if temp_dict not in shop_info:\n",
    "                shop_info.append(temp_dict)\n",
    "        return shop_info"
   ]
  },
  {
   "cell_type": "code",
   "execution_count": 3,
   "metadata": {
    "collapsed": false
   },
   "outputs": [],
   "source": [
    "def isSublist(list1, list2):\n",
    "    return set(list1)<=set(list2)\n",
    "\n",
    "def isValidMatch(item1,item2):\n",
    "    for  i in item1:\n",
    "        if i in item2:\n",
    "            return True\n",
    "    return False\n",
    "    \n",
    "\n",
    "def findShops(shop_info, product_info, items):\n",
    "    validShops = []\n",
    "    for i in shop_info:\n",
    "        shoppingOptions = {}\n",
    "        if isSublist(items,i['products']):\n",
    "            shoppingOptions['shopID'] = i['shopID']\n",
    "            cost = 0.0\n",
    "            for j in product_info:\n",
    "                if i['shopID'] == j['shopID'] and isValidMatch(j['items'],items):\n",
    "                    cost += float(j['cost'].strip())\n",
    "            shoppingOptions['shoppingCost'] = cost\n",
    "        if shoppingOptions:\n",
    "            validShops.append(shoppingOptions)\n",
    "    return validShops"
   ]
  },
  {
   "cell_type": "code",
   "execution_count": 4,
   "metadata": {
    "collapsed": false
   },
   "outputs": [],
   "source": [
    "def suggestion(validShops):\n",
    "    if validShops:\n",
    "        min_cost = sys.maxsize\n",
    "        for shops in validShops:\n",
    "            shoppingCost = shops['shoppingCost']\n",
    "            if  shoppingCost < min_cost:\n",
    "                min_cost = shoppingCost\n",
    "                best_shop = int(shops['shopID'])\n",
    "        return best_shop,min_cost\n",
    "    else:\n",
    "        return \"none\"\n",
    "    \n",
    "def giveSuggestion(filename, items):    \n",
    "    validShops = findShops(shop_info, product_info, items)\n",
    "    recommendations = suggestion(validShops)\n",
    "    print(recommendations)"
   ]
  },
  {
   "cell_type": "markdown",
   "metadata": {},
   "source": [
    "### Testing by taking user input (no spaces within a single argument)\n",
    "\n",
    "Example: data/data.csv pampers_diapers baby_soap"
   ]
  },
  {
   "cell_type": "code",
   "execution_count": 5,
   "metadata": {
    "collapsed": false
   },
   "outputs": [
    {
     "name": "stdout",
     "output_type": "stream",
     "text": [
      "Input:data.csv teddy_bear baby_powder\n",
      "(2, 11.5)\n"
     ]
    }
   ],
   "source": [
    "data = raw_input(\"Input:\").strip().split()\n",
    "filename = data[0]\n",
    "item_list = data[1:]\n",
    "\n",
    "product_info = []\n",
    "shop_info = []\n",
    "\n",
    "def giveSuggestion(filename, items):\n",
    "    product_info = readDataFrom().getProductInfo(filename)\n",
    "    shop_info = readDataFrom().getShopInfo(filename)\n",
    "    validShops = findShops(shop_info, product_info, items)\n",
    "    recommendations = suggestion(validShops)\n",
    "    print(recommendations)\n",
    "giveSuggestion(filename,item_list)"
   ]
  },
  {
   "cell_type": "markdown",
   "metadata": {},
   "source": [
    "### Testing the output manually step by step"
   ]
  },
  {
   "cell_type": "code",
   "execution_count": 6,
   "metadata": {
    "collapsed": false
   },
   "outputs": [
    {
     "name": "stdout",
     "output_type": "stream",
     "text": [
      "[{'items': ['teddy_bear'], 'cost': ' 4.00', 'shopID': '1'}, {'items': ['baby_powder'], 'cost': ' 8.00', 'shopID': '1'}, {'items': ['teddy_bear'], 'cost': ' 5.00', 'shopID': '2'}, {'items': ['baby_powder'], 'cost': ' 6.50', 'shopID': '2'}, {'items': ['pampers_diapers'], 'cost': ' 4.00', 'shopID': '3'}, {'items': ['johnson_wipes'], 'cost': ' 8.00', 'shopID': '3'}, {'items': ['johnson_wipes'], 'cost': ' 5.00', 'shopID': '4'}, {'items': ['cotton_buds'], 'cost': ' 2.50', 'shopID': '4'}, {'items': ['bath_towel'], 'cost': ' 4.00', 'shopID': '5'}, {'items': ['scissor'], 'cost': ' 8.00', 'shopID': '5'}, {'items': ['scissor'], 'cost': ' 5.00', 'shopID': '6'}, {'items': ['bath_towel', 'cotton_balls', 'powder_puff'], 'cost': ' 6.00', 'shopID': '6'}]\n",
      "\n",
      "\n",
      "[{'products': ['teddy_bear', 'baby_powder'], 'shopID': '1'}, {'products': ['teddy_bear', 'baby_powder'], 'shopID': '2'}, {'products': ['pampers_diapers', 'johnson_wipes'], 'shopID': '3'}, {'products': ['johnson_wipes', 'cotton_buds'], 'shopID': '4'}, {'products': ['bath_towel', 'scissor'], 'shopID': '5'}, {'products': ['scissor', 'bath_towel', 'cotton_balls', 'powder_puff'], 'shopID': '6'}]\n",
      "\n",
      "\n",
      "[{'shopID': '6', 'shoppingCost': 11.0}]\n",
      "\n",
      "\n"
     ]
    },
    {
     "data": {
      "text/plain": [
       "(6, 11.0)"
      ]
     },
     "execution_count": 6,
     "metadata": {},
     "output_type": "execute_result"
    }
   ],
   "source": [
    "product_info = []\n",
    "shop_info = []\n",
    "\n",
    "product_info = readDataFrom().getProductInfo(\"data/data.csv\")\n",
    "print(product_info)\n",
    "print(\"\\n\")\n",
    "shop_info = readDataFrom().getShopInfo(\"data/data.csv\")\n",
    "print(shop_info)\n",
    "print(\"\\n\")\n",
    "x = findShops(shop_info, product_info, ['scissor', 'powder_puff', 'cotton_balls'])\n",
    "print(x)\n",
    "print(\"\\n\")\n",
    "suggestion(x)"
   ]
  }
 ],
 "metadata": {
  "kernelspec": {
   "display_name": "Python 2",
   "language": "python",
   "name": "python2"
  },
  "language_info": {
   "codemirror_mode": {
    "name": "ipython",
    "version": 2
   },
   "file_extension": ".py",
   "mimetype": "text/x-python",
   "name": "python",
   "nbconvert_exporter": "python",
   "pygments_lexer": "ipython2",
   "version": "2.7.11"
  }
 },
 "nbformat": 4,
 "nbformat_minor": 0
}
